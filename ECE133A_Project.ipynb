{
  "nbformat": 4,
  "nbformat_minor": 0,
  "metadata": {
    "colab": {
      "provenance": []
    },
    "kernelspec": {
      "name": "python3",
      "display_name": "Python 3"
    },
    "language_info": {
      "name": "python"
    }
  },
  "cells": [
    {
      "cell_type": "code",
      "source": [
        "from google.colab import drive\n",
        "drive.mount('/content/drive')"
      ],
      "metadata": {
        "colab": {
          "base_uri": "https://localhost:8080/"
        },
        "id": "mRFReatv8KCO",
        "outputId": "7b64c7a7-dc10-4a91-fa38-410d8ea6eaaf"
      },
      "execution_count": null,
      "outputs": [
        {
          "output_type": "stream",
          "name": "stdout",
          "text": [
            "Mounted at /content/drive\n"
          ]
        }
      ]
    },
    {
      "cell_type": "code",
      "execution_count": null,
      "metadata": {
        "id": "JP9BxG2hiGPV",
        "colab": {
          "base_uri": "https://localhost:8080/"
        },
        "outputId": "b0f3d7f7-87b2-4e6e-a866-ccb5e460b795"
      },
      "outputs": [
        {
          "output_type": "stream",
          "name": "stdout",
          "text": [
            "Dim:  (39644, 59)\n",
            "['http://mashable.com/2013/01/07/amazon-instant-video-browser/'\n",
            " 'http://mashable.com/2013/01/07/ap-samsung-sponsored-tweets/'\n",
            " 'http://mashable.com/2013/01/07/apple-40-billion-app-downloads/' ...\n",
            " 'http://mashable.com/2014/12/27/son-pays-off-mortgage/'\n",
            " 'http://mashable.com/2014/12/27/ukraine-blasts/'\n",
            " 'http://mashable.com/2014/12/27/youtube-channels-2015/']\n",
            "[[1.20000000e+01 2.19000000e+02 6.63594467e-01 ... 0.00000000e+00\n",
            "  1.87500000e-01 5.93000000e+02]\n",
            " [9.00000000e+00 2.55000000e+02 6.04743081e-01 ... 5.00000000e-01\n",
            "  0.00000000e+00 7.11000000e+02]\n",
            " [9.00000000e+00 2.11000000e+02 5.75129531e-01 ... 5.00000000e-01\n",
            "  0.00000000e+00 1.50000000e+03]\n",
            " ...\n",
            " [1.00000000e+01 4.42000000e+02 5.16355139e-01 ... 4.54545455e-02\n",
            "  1.36363636e-01 1.90000000e+03]\n",
            " [6.00000000e+00 6.82000000e+02 5.39493293e-01 ... 5.00000000e-01\n",
            "  0.00000000e+00 1.10000000e+03]\n",
            " [1.00000000e+01 1.57000000e+02 7.01986750e-01 ... 1.66666667e-01\n",
            "  2.50000000e-01 1.30000000e+03]]\n"
          ]
        }
      ],
      "source": [
        "import pandas as pd\n",
        "import numpy as np\n",
        "\n",
        "df = pd.read_csv(\"./OnlineNews/OnlineNewsPopularity.csv\")\n",
        "\n",
        "# Preprocessing & Clean-up\n",
        "url_array = df.iloc[:, 0].values  # extract news urls mapped by index\n",
        "df = df.iloc[:, 1:]  # remove first column urls\n",
        "df = df.iloc[:, 1:]  # remove second column timedelta\n",
        "\n",
        "missing_vals = df.isnull().sum().sum()\n",
        "# print(f\"total missing values: {missing_vals}\")\n",
        "df_mod = df.dropna().reset_index(drop=True)  # remove rows with missing or null values\n",
        "\n",
        "m_p1 = df_mod.to_numpy()  # phase 1 matrix\n",
        "\n",
        "\n",
        "print(\"Dim: \", m_p1.shape)\n",
        "print(url_array)\n",
        "print(m_p1)"
      ]
    },
    {
      "cell_type": "code",
      "source": [],
      "metadata": {
        "id": "DEWaZT_hCkBx"
      },
      "execution_count": null,
      "outputs": []
    }
  ]
}